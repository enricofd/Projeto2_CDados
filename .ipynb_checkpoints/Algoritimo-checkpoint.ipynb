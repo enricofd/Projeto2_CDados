{
 "cells": [
  {
   "cell_type": "code",
   "execution_count": 29,
   "metadata": {},
   "outputs": [],
   "source": [
    "import pandas as pd\n",
    "import numpy as np\n",
    "from IPython.display import display\n",
    "pd.options.display.max_rows = 13\n"
   ]
  },
  {
   "cell_type": "code",
   "execution_count": 30,
   "metadata": {},
   "outputs": [],
   "source": [
    "import re \n",
    "\n",
    "def cleanup(text):\n",
    "    import string\n",
    "    punctuation = '[!-.:?;]'\n",
    "    pattern = re.compile(punctuation)\n",
    "    text_subbed = re.sub(pattern, ' ', text)\n",
    "    return text_subbed"
   ]
  },
  {
   "cell_type": "code",
   "execution_count": 31,
   "metadata": {},
   "outputs": [],
   "source": [
    "Tesla_raw = pd.read_excel (r'Tesla.xlsx')"
   ]
  },
  {
   "cell_type": "code",
   "execution_count": 32,
   "metadata": {},
   "outputs": [],
   "source": [
    "Tesla_Negative = Tesla_raw[Tesla_raw[\"Classificação\"] == 0]\n",
    "Tesla_Positive = Tesla_raw[Tesla_raw[\"Classificação\"] == 1]\n",
    "Tesla_NR = Tesla_raw[Tesla_raw[\"Classificação\"] == 2]"
   ]
  },
  {
   "cell_type": "code",
   "execution_count": 33,
   "metadata": {},
   "outputs": [],
   "source": [
    "Tesla_Negative[\"Treinamento\"];\n",
    "Tesla_Positive[\"Treinamento\"];\n",
    "Tesla_NR[\"Treinamento\"];\n",
    "Tesla_raw[\"Treinamento\"];"
   ]
  },
  {
   "cell_type": "code",
   "execution_count": 34,
   "metadata": {},
   "outputs": [],
   "source": [
    "Tweets_N_Text = \"\"\n",
    "for e in Tesla_Negative[\"Treinamento\"]:\n",
    "    Tweets_N_Text += e\n",
    "\n",
    "Tweets_P_Text = \"\"\n",
    "for e in Tesla_Positive[\"Treinamento\"]:\n",
    "    Tweets_P_Text += e\n",
    "\n",
    "Tweets_NR_Text = \"\"\n",
    "for e in Tesla_NR[\"Treinamento\"]:\n",
    "    Tweets_NR_Text += e\n",
    "\n",
    "Tweets_R_Text = \"\"\n",
    "for e in Tesla_raw[\"Treinamento\"]:\n",
    "    Tweets_R_Text += e"
   ]
  },
  {
   "cell_type": "code",
   "execution_count": 35,
   "metadata": {},
   "outputs": [],
   "source": [
    "Tweets_N_TextClean = cleanup(Tweets_N_Text.lower())\n",
    "Tweets_P_TextClean = cleanup(Tweets_P_Text.lower())\n",
    "Tweets_NR_TextClean = cleanup(Tweets_NR_Text.lower())\n",
    "Tweets_R_TextClean = cleanup(Tweets_R_Text.lower())"
   ]
  },
  {
   "cell_type": "code",
   "execution_count": 36,
   "metadata": {},
   "outputs": [],
   "source": [
    "def ajusta_emoji (lista): \n",
    "    \n",
    "    emoji_raw = \"🏳 🏴 🏁 🚩 🎌 🌈 ❤ 🧡 💛 💚 💙 💜 🖤 💔 ❣ 💕 💞 💓 💗 💖 💘 💝 💟 ☮ ✝ ☪ 🕉 ☸ ✡ 🔯 🕎 ☯ ☦ 🛐 ⛎ ♈ ♉ ♊ ♋ ♌ ♍ ♎ ♏ ♐ ♑ ♒ ♓ 🆔 ⚛ ⚕ ☢ ☣ 📴 📳 🈶 🈚 🈸 🈺 🈷 ✴ 🆚 🉑 💮 🉐 ㊙ ㊗ 🈴 🈵 🈹 🈲 🅰 🅱 🆎 🆑 🅾 🆘 ⛔ 📛 🚫 ❌ ⭕ 💢 ♨ 🚷 🚯 🚳 🚱 🔞 📵 🚭 ❗ ❕ ❓ ❔ ‼ ⁉ 💯 🔅 🔆 🔱 ⚜ 〽 ⚠ 🚸 🔰 ♻ 🈯 💹 ❇ ✳ ❎ ✅ 💠 🌀 ➿ 🌐 Ⓜ 🏧 🚾 ♿ 🅿 🈳 🈂 🛂 🛃 🛄 🛅 🚰 🚹 ♂ 🚺 ♀ 🚼 🚻 🚮 🎦 📶 🈁 🆖 🆗 🆙 🆒 🆕 🆓 0⃣ 1⃣ 2⃣ 3⃣ 4⃣ 5⃣ 6⃣ 7⃣ 8⃣ 9⃣ 🔟 🔢 ▶ ⏸ ⏯ ⏹ ⏺ ⏏ ⏭ ⏮ ⏩ ⏪ 🔀 🔁 🔂 ◀ 🔼 🔽 ⏫ ⏬ ➡ ⬅ ⬆ ⬇ ↗ ↘ ↙ ↖ ↕ ↔ 🔄 ↪ ↩ 🔃 ⤴ ⤵ #⃣ *⃣ ℹ 🔤 🔡 🔠 🔣 🎵 🎶 〰 ➰ ✔ ➕ ➖ ➗ ✖ 💲 💱 🔚 🔙 🔛 🔝 🔜 ☑ 🔘 ⚪ ⚫ 🔴 🔵 🔸 🔹 🔶 🔷 🔺 ▪ ▫ ⬛ ⬜ 🔻 ◼ ◻ ◾ ◽ 🔲 🔳 🔈 🔉 🔊 🔇 📣 📢 🔔 🔕 🃏 🀄 ♠ ♣ ♥ ♦ 🎴 👁‍🗨 🗨 💭 🗯 💬 🕐 🕑 🕒 🕓 🕔 🕕 🕖 🕗 🕘 🕙 🕚 🕛 🕜 🕝 🕞 🕟 🕠 🕡 🕢 🕣 🕤 🕥 🕦 🕧 😀 😬 😁 😂 😃 😄 🤣 😅 😆 😇 😉 😊 🙂 🙃 ☺ 😋 😌 😍 😘 😗 😙 😚 🤪 😜 😝 😛 🤑 😎 🤓 🧐 🤠 🤗 🤡 😏 😶 😐 😑 😒 🙄 🤨 🤔 🤫 🤭 🤥 😳 😞 😟 😠 😡 🤬 😔 😕 🙁 ☹ 😣 😖 😫 😩 😤 😮 😱 😨 😰 😯 😦 😧 😢 😥 😪 🤤 😓 😭 🤩 😵 😲 🤯 🤐 😷 🤕 🤒 🤮 🤢 🤧 😴 💤 😈 👿 👹 👺 💩 👻 💀 ☠ 👽 🤖 🎃 😺 😸 😹 😻 😼 😽 🙀 😿 😾 👐 🤲 🙌 👏 🙏 🤝 👍 👎 👊 ✊ 🤛 🤜 🤞 ✌ 🤘 🤟 👌 👈 👉 👆 👇 ☝ ✋ 🤚 🖐 🖖 👋 🤙 💪 🖕 ✍ 🤳 💅 👄 👅 👂 👃 👁 👀 🧠 👤 👥 🗣 👶 🧒 👦 👧 🧑 👨 🧔 👱‍♂️ 👩 👱‍♀️ 🧓 👴 👵 👲 👳‍♀️ 👳‍♂️ 🧕 👮‍♀️ 👮‍♂️ 👩‍🚒 👨‍🚒 👷‍♀️ 👷‍♂️ 👩‍🏭 👨‍🏭 👩‍🔧 👨‍🔧 👩‍🌾 👨‍🌾 👩‍🍳 👨‍🍳 👩‍🎤 👨‍🎤 👩‍🎨 👨‍🎨 👩‍🏫 👨‍🏫 👩‍🎓 👨‍🎓 👩‍💼 👨‍💼 👩‍💻 👨‍💻 👩‍🔬 👨‍🔬 👩‍🚀 👨‍🚀 👩‍⚕️ 👨‍⚕️ 👩‍⚖️ 👨‍⚖️ 👩‍✈️ 👨‍✈️ 💂‍♀️ 💂‍♂️ 🕵️‍♀️ 🕵️‍♂️ 🤶 🎅 👼 👸 🤴 👰 🤵‍♀️ 🤵 🕴️‍♀️ 🕴 🧙‍♀️ 🧙‍♂️ 🧝‍♀️ 🧝‍♂️ 🧚‍♀️ 🧚‍♂️ 🧞‍♀️ 🧞‍♂️ 🧜‍♀️ 🧜‍♂️ 🧛‍♀️ 🧛‍♂️ 🧟‍♀️ 🧟‍♂️ 🙇‍♀️ 🙇‍♂️ 💁‍♀️ 💁‍♂️ 🙅‍♀️ 🙅‍♂️ 🙆‍♀️ 🙆‍♂️ 🤷‍♀️ 🤷‍♂️ 🙋‍♀️ 🙋‍♂️ 🤦‍♀️ 🤦‍♂️ 🙎‍♀️ 🙎‍♂️ 🙍‍♀️ 🙍‍♂️ 💇‍♀️ 💇‍♂️ 💆‍♀️ 💆‍♂️ 🤰 🤱 🚶‍♀️ 🚶‍♂️ 🏃‍♀️ 🏃‍♂️ 💃 🕺 👯‍♀️ 👯‍♂️ 👫 👬 👭 💑 👩‍❤️‍👩 👨‍❤️‍👨 💏 👩‍❤️‍💋‍👩 👨‍❤️‍💋‍👨 👪 👨‍👩‍👧 👨‍👩‍👧‍👦 👨‍👩‍👦‍👦 👨‍👩‍👧‍👧 👩‍👩‍👦 👩‍👩‍👧 👩‍👩‍👧‍👦 👩‍👩‍👦‍👦 👩‍👩‍👧‍👧 👨‍👨‍👦 👨‍👨‍👧 👨‍👨‍👧‍👦 👨‍👨‍👦‍👦 👨‍👨‍👧‍👧 👩‍👦 👩‍👧 👩‍👧‍👦 👩‍👦‍👦 👩‍👧‍👧 👨‍👦 👨‍👧 👨‍👧‍👦 👨‍👦‍👦 👨‍👧‍👧 👚 👕 🧥 👖 👔 👗 👙 👘 💄 💋 👣 🧦 👠 👡 👢 👞 👟 🧢 👒 🎩 🎓 👑 ⛑ 🎒 👝 👛 👜 💼 👓 🕶 🧣 🧤 💍 🌂 ☂ ⌚ 📱 📲 💻 ⌨ 🖥 🖨 🖱 🖲 🕹 🗜 💽 💾 💿 📀 📼 📷 📸 📹 🎥 📽 🎞 📞 ☎ 📟 📠 📺 📻 🎙 🎚 🎛 ⏱ ⏲ ⏰ 🕰 ⏳ ⌛ 📡 🔋 🔌 💡 🔦 🕯 🗑 🛢 🛒 💸 💵 💴 💶 💷 💰 💳 💎 ⚖ 🔧 🔨 ⚒ 🛠 ⛏ 🔩 ⚙ ⛓ 🔫 💣 🔪 🗡 ⚔ 🛡 🚬 ⚰ ⚱ 🏺 🔮 📿 💈 ⚗ 🔭 🔬 🕳 💊 💉 🌡 🏷 🔖 🚽 🚿 🛁 🛀 🔑 🗝 🛋 🛌 🛏 🚪 🛎 🖼 🗺 ⛱ 🗿 🛍 🎈 🎏 🎀 🎁 🎊 🎉 🎎 🎐 🏮 ✉ 📩 📨 📧 💌 📮 📪 📫 📬 📭 📦 📯 📥 📤 📜 📃 📑 📊 📈 📉 📄 📅 📆 🗓 📇 🗃 🗳 🗄 📋 🗒 📁 📂 🗂 🗞 📰 📓 📕 📗 📘 📙 📔 📒 📚 📖 🔗 📎 🖇 ✂ 📐 📏 📌 📍 🔐 🔒 🔓 🔏 🖊 🖋 ✒ 📝 ✏ 🖍 🖌 🔍 🔎 🚗 🚕 🚙 🚌 🚎 🏎 🚓 🚑 🚒 🚐 🚚 🚛 🚜 🏍 🛵 🚲 🛴 🚨 🚔 🚍 🚘 🚖 🚡 🚠 🚟 🚃 🚋 🚝 🚄 🚅 🚈 🚞 🚂 🚆 🚇 🚊 🚉 🚁 🛩 ✈ 🛫 🛬 🛶 ⛵ 🛥 🚤 ⛴ 🛳 🚀 🛸 🛰 💺 ⚓ 🚧 ⛽ 🚏 🚦 🚥 🛑 🚢 🎡 🎢 🎠 🏗 🌁 🗼 🏭 ⛲ 🎑 ⛰ 🏔 🗻 🌋 🗾 🏕 ⛺ 🏞 🛣 🛤 🌅 🌄 🏜 🏖 🏝 🌇 🌆 🏙 🌃 🌉 🌌 🌠 🎇 🎆 🌈 🏘 🏰 🏯 🏟 🗽 🏠 🏡 🏚 🏢 🏬 🏣 🏤 🏥 🏦 🏨 🏪 🏫 🏩 💒 🏛 ⛪ 🕌 🕍 🕋 ⛩\"\n",
    "    emoji = emoji_raw.split()\n",
    "   \n",
    "    lista_emoji = []\n",
    "    palavra_limpa = []\n",
    "    \n",
    "    for e in lista:\n",
    "        palavra = ''\n",
    "        for letra in e:\n",
    "            if letra in emoji:\n",
    "                lista_emoji.append(letra)\n",
    "            else:\n",
    "                palavra += letra\n",
    "        palavra_limpa.append(palavra)\n",
    "    Final = lista_emoji + palavra_limpa\n",
    "    return Final\n"
   ]
  },
  {
   "cell_type": "code",
   "execution_count": 37,
   "metadata": {},
   "outputs": [],
   "source": [
    "serie_N = pd.Series(ajusta_emoji(Tweets_N_TextClean.split()))\n",
    "serie_P = pd.Series(ajusta_emoji(Tweets_P_TextClean.split()))\n",
    "serie_NR = pd.Series(ajusta_emoji(Tweets_NR_TextClean.split()))\n",
    "serie_R = pd.Series(ajusta_emoji(Tweets_R_TextClean.split()))"
   ]
  },
  {
   "cell_type": "code",
   "execution_count": 38,
   "metadata": {},
   "outputs": [],
   "source": [
    "tabela_N = serie_N.value_counts()\n",
    "tabela_P = serie_P.value_counts()\n",
    "tabela_NR = serie_NR.value_counts()\n",
    "tabela_R = serie_R.value_counts()"
   ]
  },
  {
   "cell_type": "code",
   "execution_count": 39,
   "metadata": {},
   "outputs": [],
   "source": [
    "N_total = tabela_N.sum()\n",
    "P_total = tabela_P.sum()\n",
    "NR_total = tabela_NR.sum()\n",
    "R_total = len(tabela_R)"
   ]
  },
  {
   "cell_type": "code",
   "execution_count": 40,
   "metadata": {},
   "outputs": [],
   "source": [
    "def Laplace_smoothing (x, cat):\n",
    "   \n",
    "    if cat == 0:\n",
    "        if x in tabela_N:\n",
    "            return (tabela_N[x] + 1) / (N_total + R_total)\n",
    "        else:\n",
    "            return (1) / (N_total + R_total)\n",
    "        \n",
    "    if cat == 1:\n",
    "        if x in tabela_P:\n",
    "            return (tabela_P[x] + 1) / (P_total + R_total)\n",
    "        else:\n",
    "            return (1) / (P_total + R_total)\n",
    "        \n",
    "    if cat == 2:\n",
    "        if x in tabela_NR:\n",
    "            return (tabela_NR[x] + 1) / (NR_total + R_total)\n",
    "        else:\n",
    "            return (1) / (NR_total + R_total)"
   ]
  },
  {
   "cell_type": "code",
   "execution_count": 41,
   "metadata": {},
   "outputs": [],
   "source": [
    "def bayes (Tweet):\n",
    "   \n",
    "    P0l = []\n",
    "    P1l = []\n",
    "    P2l = []\n",
    "    P0 = 1\n",
    "    P1 = 1\n",
    "    P2 = 1\n",
    "    \n",
    "    for e in Tweet:\n",
    "        P0l.append(Laplace_smoothing(e,0))\n",
    "        P1l.append(Laplace_smoothing(e,1))\n",
    "        P2l.append(Laplace_smoothing(e,2))\n",
    "    \n",
    "    for e in P0l:\n",
    "        P0 *= e\n",
    "    \n",
    "    for e in P1l:\n",
    "        P1 *= e\n",
    "        \n",
    "    for e in P2l:\n",
    "        P2 *= e\n",
    "    \n",
    "    if P0 > P1 and P0 > P2:\n",
    "        return (0)\n",
    "    \n",
    "    elif P1 > P0 and P1 > P2:\n",
    "        return (1)\n",
    "    \n",
    "    else:\n",
    "        return(2)"
   ]
  },
  {
   "cell_type": "code",
   "execution_count": 61,
   "metadata": {},
   "outputs": [],
   "source": [
    "def aplica_algoritimo(Tweets):\n",
    "\n",
    "    Tweets_lista = []\n",
    "    Tweet_valor = []\n",
    "\n",
    "    for e in Tweets['Teste']:\n",
    "        Tweets_lista.append(cleanup(e.lower()))\n",
    "    \n",
    "    for e in Tweets_lista:\n",
    "        tweet_split = ajusta_emoji(e.split())\n",
    "        Tweet_valor.append(bayes(tweet_split))\n",
    "    \n",
    "    return Tweet_valor"
   ]
  },
  {
   "cell_type": "code",
   "execution_count": 62,
   "metadata": {},
   "outputs": [
    {
     "data": {
      "text/html": [
       "<div>\n",
       "<style scoped>\n",
       "    .dataframe tbody tr th:only-of-type {\n",
       "        vertical-align: middle;\n",
       "    }\n",
       "\n",
       "    .dataframe tbody tr th {\n",
       "        vertical-align: top;\n",
       "    }\n",
       "\n",
       "    .dataframe thead th {\n",
       "        text-align: right;\n",
       "    }\n",
       "</style>\n",
       "<table border=\"1\" class=\"dataframe\">\n",
       "  <thead>\n",
       "    <tr style=\"text-align: right;\">\n",
       "      <th></th>\n",
       "      <th>Teste</th>\n",
       "      <th>Classificação</th>\n",
       "      <th>Classificação do Algoritimo</th>\n",
       "    </tr>\n",
       "  </thead>\n",
       "  <tbody>\n",
       "    <tr>\n",
       "      <th>0</th>\n",
       "      <td>rt @williamsbob75: another day, another lawsui...</td>\n",
       "      <td>2</td>\n",
       "      <td>0</td>\n",
       "    </tr>\n",
       "    <tr>\n",
       "      <th>1</th>\n",
       "      <td>@tesla_truth wait!! they want me to give them ...</td>\n",
       "      <td>1</td>\n",
       "      <td>1</td>\n",
       "    </tr>\n",
       "    <tr>\n",
       "      <th>2</th>\n",
       "      <td>@davinalexmma @motorcyclebum @tesla you can ge...</td>\n",
       "      <td>1</td>\n",
       "      <td>2</td>\n",
       "    </tr>\n",
       "    <tr>\n",
       "      <th>3</th>\n",
       "      <td>rt @melaynalokosky: \"the best service, of cour...</td>\n",
       "      <td>0</td>\n",
       "      <td>0</td>\n",
       "    </tr>\n",
       "    <tr>\n",
       "      <th>4</th>\n",
       "      <td>@evnewsdaily i'd happily give my money back to...</td>\n",
       "      <td>0</td>\n",
       "      <td>2</td>\n",
       "    </tr>\n",
       "    <tr>\n",
       "      <th>5</th>\n",
       "      <td>rt @business: teslas have an autopilot functio...</td>\n",
       "      <td>0</td>\n",
       "      <td>0</td>\n",
       "    </tr>\n",
       "    <tr>\n",
       "      <th>6</th>\n",
       "      <td>$tsla - statement of changes in beneficial own...</td>\n",
       "      <td>2</td>\n",
       "      <td>1</td>\n",
       "    </tr>\n",
       "    <tr>\n",
       "      <th>7</th>\n",
       "      <td>rt @insideevs: here's why tesla's h2 2019 will...</td>\n",
       "      <td>1</td>\n",
       "      <td>1</td>\n",
       "    </tr>\n",
       "    <tr>\n",
       "      <th>8</th>\n",
       "      <td>rt @djdura: is there a bug or an extra feature...</td>\n",
       "      <td>0</td>\n",
       "      <td>1</td>\n",
       "    </tr>\n",
       "    <tr>\n",
       "      <th>9</th>\n",
       "      <td>i need that lambo urus in off white and a tesl...</td>\n",
       "      <td>1</td>\n",
       "      <td>1</td>\n",
       "    </tr>\n",
       "  </tbody>\n",
       "</table>\n",
       "</div>"
      ],
      "text/plain": [
       "                                               Teste  Classificação  \\\n",
       "0  rt @williamsbob75: another day, another lawsui...              2   \n",
       "1  @tesla_truth wait!! they want me to give them ...              1   \n",
       "2  @davinalexmma @motorcyclebum @tesla you can ge...              1   \n",
       "3  rt @melaynalokosky: \"the best service, of cour...              0   \n",
       "4  @evnewsdaily i'd happily give my money back to...              0   \n",
       "5  rt @business: teslas have an autopilot functio...              0   \n",
       "6  $tsla - statement of changes in beneficial own...              2   \n",
       "7  rt @insideevs: here's why tesla's h2 2019 will...              1   \n",
       "8  rt @djdura: is there a bug or an extra feature...              0   \n",
       "9  i need that lambo urus in off white and a tesl...              1   \n",
       "\n",
       "   Classificação do Algoritimo  \n",
       "0                            0  \n",
       "1                            1  \n",
       "2                            2  \n",
       "3                            0  \n",
       "4                            2  \n",
       "5                            0  \n",
       "6                            1  \n",
       "7                            1  \n",
       "8                            1  \n",
       "9                            1  "
      ]
     },
     "execution_count": 62,
     "metadata": {},
     "output_type": "execute_result"
    }
   ],
   "source": [
    "Tweet_teste = pd.read_excel (r'Tesla.xlsx', sheet_name = 'Teste', index = False)\n",
    "resultado_teste = aplica_algoritimo(Tweet_teste)\n",
    "Tweet_teste[\"Classificação do Algoritimo\"] = resultado_teste\n",
    "Tweet_teste.head(10)"
   ]
  },
  {
   "cell_type": "markdown",
   "metadata": {},
   "source": [
    "Com stemming:"
   ]
  },
  {
   "cell_type": "code",
   "execution_count": 63,
   "metadata": {},
   "outputs": [],
   "source": [
    "from nltk.stem import PorterStemmer\n",
    "\n",
    "stemmer = PorterStemmer()"
   ]
  },
  {
   "cell_type": "code",
   "execution_count": 64,
   "metadata": {},
   "outputs": [],
   "source": [
    "NCP = (Tweets_N_TextClean.split())\n",
    "PCP = (Tweets_P_TextClean.split())\n",
    "NRCP = (Tweets_NR_TextClean.split())\n",
    "RCP = (Tweets_R_TextClean.split())"
   ]
  },
  {
   "cell_type": "code",
   "execution_count": 65,
   "metadata": {},
   "outputs": [],
   "source": [
    "lista_N = []\n",
    "for e in NCP:\n",
    "    j = stemmer.stem(e)\n",
    "    lista_N.append(j)\n",
    "    \n",
    "\n",
    "lista_P = []\n",
    "for e in PCP:\n",
    "    j = stemmer.stem(e)\n",
    "    lista_P.append(j)\n",
    "\n",
    "\n",
    "lista_NR = []\n",
    "for e in NRCP:\n",
    "    j = stemmer.stem(e)\n",
    "    lista_NR.append(j)\n",
    "\n",
    "lista_R = []\n",
    "for e in RCP:\n",
    "    j = stemmer.stem(e)\n",
    "    lista_R.append(j)"
   ]
  },
  {
   "cell_type": "code",
   "execution_count": 66,
   "metadata": {},
   "outputs": [],
   "source": [
    "serie_NS = pd.Series(ajusta_emoji(lista_N))\n",
    "serie_PS = pd.Series(ajusta_emoji(lista_P))\n",
    "serie_NRS = pd.Series(ajusta_emoji(lista_NR))\n",
    "serie_RS = pd.Series(ajusta_emoji(lista_R))"
   ]
  },
  {
   "cell_type": "code",
   "execution_count": 67,
   "metadata": {},
   "outputs": [],
   "source": [
    "tabela_NS = serie_NS.value_counts()\n",
    "tabela_PS = serie_PS.value_counts()\n",
    "tabela_NRS = serie_NRS.value_counts()\n",
    "tabela_RS = serie_RS.value_counts()"
   ]
  },
  {
   "cell_type": "code",
   "execution_count": 68,
   "metadata": {},
   "outputs": [],
   "source": [
    "N_totalS = tabela_NS.sum()\n",
    "P_totalS = tabela_PS.sum()\n",
    "NR_totalS = tabela_NRS.sum()\n",
    "R_totalS = len(tabela_RS)"
   ]
  },
  {
   "cell_type": "code",
   "execution_count": 69,
   "metadata": {},
   "outputs": [],
   "source": [
    "def Laplace_smoothingS (x, cat):\n",
    "   \n",
    "    if cat == 0:\n",
    "        if x in tabela_NS:\n",
    "            return (tabela_NS[x] + 1) / (N_totalS + R_totalS)\n",
    "        else:\n",
    "            return (1) / (N_totalS + R_totalS)\n",
    "        \n",
    "    if cat == 1:\n",
    "        if x in tabela_PS:\n",
    "            return (tabela_PS[x] + 1) / (P_totalS + R_totalS)\n",
    "        else:\n",
    "            return (1) / (P_totalS + R_totalS)\n",
    "        \n",
    "    if cat == 2:\n",
    "        if x in tabela_NRS:\n",
    "            return (tabela_NRS[x] + 1) / (NR_totalS + R_totalS)\n",
    "        else:\n",
    "            return (1) / (NR_totalS + R_totalS)"
   ]
  },
  {
   "cell_type": "code",
   "execution_count": 70,
   "metadata": {},
   "outputs": [],
   "source": [
    "def bayesS (Tweet):\n",
    "   \n",
    "    P0l = []\n",
    "    P1l = []\n",
    "    P2l = []\n",
    "    P0 = 1\n",
    "    P1 = 1\n",
    "    P2 = 1\n",
    "    \n",
    "    for e in Tweet:\n",
    "        P0l.append(Laplace_smoothingS(e,0))\n",
    "        P1l.append(Laplace_smoothingS(e,1))\n",
    "        P2l.append(Laplace_smoothingS(e,2))\n",
    "    \n",
    "    for e in P0l:\n",
    "        P0 *= e\n",
    "    \n",
    "    for e in P1l:\n",
    "        P1 *= e\n",
    "        \n",
    "    for e in P2l:\n",
    "        P2 *= e\n",
    "    \n",
    "    if P0 > P1 and P0 > P2:\n",
    "        return (0)\n",
    "    \n",
    "    elif P1 > P0 and P1 > P2:\n",
    "        return (1)\n",
    "    \n",
    "    else:\n",
    "        return(2)"
   ]
  },
  {
   "cell_type": "code",
   "execution_count": 71,
   "metadata": {},
   "outputs": [],
   "source": [
    "def aplica_algoritimoS(Tweets):\n",
    "    \n",
    "    Tweets_lista = []\n",
    "    Tweet_valor = []\n",
    "\n",
    "    for e in Tweets['Teste']:\n",
    "        Tweets_lista.append(stemmer.stem(cleanup(e.lower())))\n",
    "    \n",
    "    for e in Tweets_lista:\n",
    "        tweet_split = ajusta_emoji(e.split())\n",
    "        Tweet_valor.append(bayesS(tweet_split))\n",
    "    \n",
    "    return Tweet_valor\n",
    "\n",
    "\n",
    "\n"
   ]
  },
  {
   "cell_type": "code",
   "execution_count": 72,
   "metadata": {
    "scrolled": false
   },
   "outputs": [
    {
     "data": {
      "text/html": [
       "<div>\n",
       "<style scoped>\n",
       "    .dataframe tbody tr th:only-of-type {\n",
       "        vertical-align: middle;\n",
       "    }\n",
       "\n",
       "    .dataframe tbody tr th {\n",
       "        vertical-align: top;\n",
       "    }\n",
       "\n",
       "    .dataframe thead th {\n",
       "        text-align: right;\n",
       "    }\n",
       "</style>\n",
       "<table border=\"1\" class=\"dataframe\">\n",
       "  <thead>\n",
       "    <tr style=\"text-align: right;\">\n",
       "      <th></th>\n",
       "      <th>Teste</th>\n",
       "      <th>Classificação</th>\n",
       "      <th>Classificação do Algoritimo</th>\n",
       "    </tr>\n",
       "  </thead>\n",
       "  <tbody>\n",
       "    <tr>\n",
       "      <th>0</th>\n",
       "      <td>rt @williamsbob75: another day, another lawsui...</td>\n",
       "      <td>2</td>\n",
       "      <td>2</td>\n",
       "    </tr>\n",
       "    <tr>\n",
       "      <th>1</th>\n",
       "      <td>@tesla_truth wait!! they want me to give them ...</td>\n",
       "      <td>1</td>\n",
       "      <td>1</td>\n",
       "    </tr>\n",
       "    <tr>\n",
       "      <th>2</th>\n",
       "      <td>@davinalexmma @motorcyclebum @tesla you can ge...</td>\n",
       "      <td>1</td>\n",
       "      <td>2</td>\n",
       "    </tr>\n",
       "    <tr>\n",
       "      <th>3</th>\n",
       "      <td>rt @melaynalokosky: \"the best service, of cour...</td>\n",
       "      <td>0</td>\n",
       "      <td>0</td>\n",
       "    </tr>\n",
       "    <tr>\n",
       "      <th>4</th>\n",
       "      <td>@evnewsdaily i'd happily give my money back to...</td>\n",
       "      <td>0</td>\n",
       "      <td>2</td>\n",
       "    </tr>\n",
       "    <tr>\n",
       "      <th>5</th>\n",
       "      <td>rt @business: teslas have an autopilot functio...</td>\n",
       "      <td>0</td>\n",
       "      <td>0</td>\n",
       "    </tr>\n",
       "    <tr>\n",
       "      <th>6</th>\n",
       "      <td>$tsla - statement of changes in beneficial own...</td>\n",
       "      <td>2</td>\n",
       "      <td>1</td>\n",
       "    </tr>\n",
       "    <tr>\n",
       "      <th>7</th>\n",
       "      <td>rt @insideevs: here's why tesla's h2 2019 will...</td>\n",
       "      <td>1</td>\n",
       "      <td>1</td>\n",
       "    </tr>\n",
       "    <tr>\n",
       "      <th>8</th>\n",
       "      <td>rt @djdura: is there a bug or an extra feature...</td>\n",
       "      <td>0</td>\n",
       "      <td>0</td>\n",
       "    </tr>\n",
       "    <tr>\n",
       "      <th>9</th>\n",
       "      <td>i need that lambo urus in off white and a tesl...</td>\n",
       "      <td>1</td>\n",
       "      <td>1</td>\n",
       "    </tr>\n",
       "  </tbody>\n",
       "</table>\n",
       "</div>"
      ],
      "text/plain": [
       "                                               Teste  Classificação  \\\n",
       "0  rt @williamsbob75: another day, another lawsui...              2   \n",
       "1  @tesla_truth wait!! they want me to give them ...              1   \n",
       "2  @davinalexmma @motorcyclebum @tesla you can ge...              1   \n",
       "3  rt @melaynalokosky: \"the best service, of cour...              0   \n",
       "4  @evnewsdaily i'd happily give my money back to...              0   \n",
       "5  rt @business: teslas have an autopilot functio...              0   \n",
       "6  $tsla - statement of changes in beneficial own...              2   \n",
       "7  rt @insideevs: here's why tesla's h2 2019 will...              1   \n",
       "8  rt @djdura: is there a bug or an extra feature...              0   \n",
       "9  i need that lambo urus in off white and a tesl...              1   \n",
       "\n",
       "   Classificação do Algoritimo  \n",
       "0                            2  \n",
       "1                            1  \n",
       "2                            2  \n",
       "3                            0  \n",
       "4                            2  \n",
       "5                            0  \n",
       "6                            1  \n",
       "7                            1  \n",
       "8                            0  \n",
       "9                            1  "
      ]
     },
     "execution_count": 72,
     "metadata": {},
     "output_type": "execute_result"
    }
   ],
   "source": [
    "Tweet_testeS = pd.read_excel (r'Tesla.xlsx', sheet_name = 'Teste', index = False)\n",
    "resultado_testeS = aplica_algoritimoS(Tweet_testeS)\n",
    "Tweet_testeS[\"Classificação do Algoritimo\"] = resultado_testeS\n",
    "Tweet_testeS.head(10)"
   ]
  },
  {
   "cell_type": "markdown",
   "metadata": {},
   "source": [
    "Comparando:"
   ]
  },
  {
   "cell_type": "code",
   "execution_count": 73,
   "metadata": {},
   "outputs": [],
   "source": [
    "class_normAL = []\n",
    "for e in Tweet_teste['Classificação do Algoritimo']:\n",
    "             class_normAL.append(Tweet_teste['Classificação do Algoritimo'][e])\n",
    "\n",
    "class_norm = []\n",
    "for e in Tweet_teste['Classificação']:\n",
    "             class_norm.append(Tweet_teste['Classificação'][e])\n",
    "            \n",
    "        \n",
    "    \n",
    "class_S = []\n",
    "for e in Tweet_testeS['Classificação do Algoritimo']:\n",
    "             class_S.append(Tweet_testeS['Classificação do Algoritimo'][e])\n",
    "\n",
    "class_SAL = []\n",
    "for e in Tweet_testeS['Classificação']:\n",
    "             class_SAL.append(Tweet_testeS['Classificação'][e])\n"
   ]
  },
  {
   "cell_type": "code",
   "execution_count": 74,
   "metadata": {},
   "outputs": [
    {
     "name": "stdout",
     "output_type": "stream",
     "text": [
      "0.4033333333333333\n"
     ]
    }
   ],
   "source": [
    "i = 0\n",
    "e = 0\n",
    "while i < len(class_norm):\n",
    "    if class_normAL[i] == class_norm[i]:\n",
    "        e += 1\n",
    "    i += 1\n",
    "print(e/300)"
   ]
  },
  {
   "cell_type": "code",
   "execution_count": 75,
   "metadata": {},
   "outputs": [
    {
     "name": "stdout",
     "output_type": "stream",
     "text": [
      "0.6166666666666667\n"
     ]
    }
   ],
   "source": [
    "i = 0\n",
    "e = 0\n",
    "while i < len(class_S):\n",
    "    if class_SAL[i] == class_S[i]:\n",
    "        e += 1\n",
    "    i += 1\n",
    "print(e/300)"
   ]
  },
  {
   "cell_type": "markdown",
   "metadata": {},
   "source": [
    "Melhora banco de dados"
   ]
  },
  {
   "cell_type": "code",
   "execution_count": 95,
   "metadata": {},
   "outputs": [],
   "source": [
    "def seleciona_errados (tabela):\n",
    "    i = 0\n",
    "    erros = {}\n",
    "    while i < len (tabela['Classificação']):\n",
    "        if tabela['Classificação'][i] != tabela['Classificação do Algoritimo'][i]:\n",
    "            erros[tabela[\"Teste\"][i]] = [tabela[\"Classificação\"][i]]\n",
    "        i += 1\n",
    "    return erros"
   ]
  },
  {
   "cell_type": "code",
   "execution_count": null,
   "metadata": {},
   "outputs": [],
   "source": []
  },
  {
   "cell_type": "code",
   "execution_count": null,
   "metadata": {},
   "outputs": [],
   "source": []
  }
 ],
 "metadata": {
  "kernelspec": {
   "display_name": "Python 3",
   "language": "python",
   "name": "python3"
  },
  "language_info": {
   "codemirror_mode": {
    "name": "ipython",
    "version": 3
   },
   "file_extension": ".py",
   "mimetype": "text/x-python",
   "name": "python",
   "nbconvert_exporter": "python",
   "pygments_lexer": "ipython3",
   "version": "3.7.3"
  }
 },
 "nbformat": 4,
 "nbformat_minor": 2
}
