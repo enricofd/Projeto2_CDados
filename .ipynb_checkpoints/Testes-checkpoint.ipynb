{
 "cells": [
  {
   "cell_type": "code",
   "execution_count": 93,
   "metadata": {},
   "outputs": [],
   "source": [
    "import pandas as pd\n",
    "import numpy as np\n",
    "from IPython.display import display\n",
    "pd.options.display.max_rows = 13"
   ]
  },
  {
   "cell_type": "code",
   "execution_count": 94,
   "metadata": {},
   "outputs": [],
   "source": [
    "import re \n",
    "\n",
    "\n",
    "def cleanup(text):\n",
    "    import string\n",
    "    punctuation = '[!-.:?;]'\n",
    "    pattern = re.compile(punctuation)\n",
    "    text_subbed = re.sub(pattern, ' ', text)\n",
    "    return text_subbed\n",
    "    "
   ]
  },
  {
   "cell_type": "code",
   "execution_count": 95,
   "metadata": {},
   "outputs": [
    {
     "data": {
      "text/html": [
       "<div>\n",
       "<style scoped>\n",
       "    .dataframe tbody tr th:only-of-type {\n",
       "        vertical-align: middle;\n",
       "    }\n",
       "\n",
       "    .dataframe tbody tr th {\n",
       "        vertical-align: top;\n",
       "    }\n",
       "\n",
       "    .dataframe thead th {\n",
       "        text-align: right;\n",
       "    }\n",
       "</style>\n",
       "<table border=\"1\" class=\"dataframe\">\n",
       "  <thead>\n",
       "    <tr style=\"text-align: right;\">\n",
       "      <th></th>\n",
       "      <th>Tweets</th>\n",
       "      <th>Categoria</th>\n",
       "      <th>Unnamed: 2</th>\n",
       "      <th>Unnamed: 3</th>\n",
       "    </tr>\n",
       "  </thead>\n",
       "  <tbody>\n",
       "    <tr>\n",
       "      <th>0</th>\n",
       "      <td>rt @bectcomputing: tesla's use of individual d...</td>\n",
       "      <td>NaN</td>\n",
       "      <td>NaN</td>\n",
       "      <td>NaN</td>\n",
       "    </tr>\n",
       "    <tr>\n",
       "      <th>1</th>\n",
       "      <td>tesla autopilot design 'led to' crash - https:...</td>\n",
       "      <td>NaN</td>\n",
       "      <td>NaN</td>\n",
       "      <td>NaN</td>\n",
       "    </tr>\n",
       "    <tr>\n",
       "      <th>2</th>\n",
       "      <td>@webmz_ yes! hope tesla is ok! i have a ridicu...</td>\n",
       "      <td>NaN</td>\n",
       "      <td>NaN</td>\n",
       "      <td>NaN</td>\n",
       "    </tr>\n",
       "    <tr>\n",
       "      <th>3</th>\n",
       "      <td>rt @threadreaderapp: @jerviscapital saluti ple...</td>\n",
       "      <td>NaN</td>\n",
       "      <td>NaN</td>\n",
       "      <td>NaN</td>\n",
       "    </tr>\n",
       "    <tr>\n",
       "      <th>4</th>\n",
       "      <td>@model3owners @elonmusk excludes usa and china...</td>\n",
       "      <td>NaN</td>\n",
       "      <td>NaN</td>\n",
       "      <td>NaN</td>\n",
       "    </tr>\n",
       "    <tr>\n",
       "      <th>5</th>\n",
       "      <td>@markets @business tesla made and delivered mo...</td>\n",
       "      <td>NaN</td>\n",
       "      <td>NaN</td>\n",
       "      <td>NaN</td>\n",
       "    </tr>\n",
       "    <tr>\n",
       "      <th>...</th>\n",
       "      <td>...</td>\n",
       "      <td>...</td>\n",
       "      <td>...</td>\n",
       "      <td>...</td>\n",
       "    </tr>\n",
       "    <tr>\n",
       "      <th>294</th>\n",
       "      <td>from a car perspective, a car like this, from ...</td>\n",
       "      <td>1.0</td>\n",
       "      <td>NaN</td>\n",
       "      <td>NaN</td>\n",
       "    </tr>\n",
       "    <tr>\n",
       "      <th>295</th>\n",
       "      <td>as long as things continue to progress. it is ...</td>\n",
       "      <td>1.0</td>\n",
       "      <td>NaN</td>\n",
       "      <td>NaN</td>\n",
       "    </tr>\n",
       "    <tr>\n",
       "      <th>296</th>\n",
       "      <td>tesla sells sedans and suvs. porsche taycan is...</td>\n",
       "      <td>0.0</td>\n",
       "      <td>NaN</td>\n",
       "      <td>NaN</td>\n",
       "    </tr>\n",
       "    <tr>\n",
       "      <th>297</th>\n",
       "      <td>rt @teslaforthe_win: 100% percent agreed.....e...</td>\n",
       "      <td>0.0</td>\n",
       "      <td>NaN</td>\n",
       "      <td>NaN</td>\n",
       "    </tr>\n",
       "    <tr>\n",
       "      <th>298</th>\n",
       "      <td>this chart is the simplest and best quick comp...</td>\n",
       "      <td>0.0</td>\n",
       "      <td>NaN</td>\n",
       "      <td>NaN</td>\n",
       "    </tr>\n",
       "    <tr>\n",
       "      <th>299</th>\n",
       "      <td>@jays200 @model3owners @elonmusk @tesla not lo...</td>\n",
       "      <td>1.0</td>\n",
       "      <td>NaN</td>\n",
       "      <td>NaN</td>\n",
       "    </tr>\n",
       "  </tbody>\n",
       "</table>\n",
       "<p>300 rows × 4 columns</p>\n",
       "</div>"
      ],
      "text/plain": [
       "                                                Tweets  Categoria  Unnamed: 2  \\\n",
       "0    rt @bectcomputing: tesla's use of individual d...        NaN         NaN   \n",
       "1    tesla autopilot design 'led to' crash - https:...        NaN         NaN   \n",
       "2    @webmz_ yes! hope tesla is ok! i have a ridicu...        NaN         NaN   \n",
       "3    rt @threadreaderapp: @jerviscapital saluti ple...        NaN         NaN   \n",
       "4    @model3owners @elonmusk excludes usa and china...        NaN         NaN   \n",
       "5    @markets @business tesla made and delivered mo...        NaN         NaN   \n",
       "..                                                 ...        ...         ...   \n",
       "294  from a car perspective, a car like this, from ...        1.0         NaN   \n",
       "295  as long as things continue to progress. it is ...        1.0         NaN   \n",
       "296  tesla sells sedans and suvs. porsche taycan is...        0.0         NaN   \n",
       "297  rt @teslaforthe_win: 100% percent agreed.....e...        0.0         NaN   \n",
       "298  this chart is the simplest and best quick comp...        0.0         NaN   \n",
       "299  @jays200 @model3owners @elonmusk @tesla not lo...        1.0         NaN   \n",
       "\n",
       "    Unnamed: 3  \n",
       "0          NaN  \n",
       "1          NaN  \n",
       "2          NaN  \n",
       "3          NaN  \n",
       "4          NaN  \n",
       "5          NaN  \n",
       "..         ...  \n",
       "294        NaN  \n",
       "295        NaN  \n",
       "296        NaN  \n",
       "297        NaN  \n",
       "298        NaN  \n",
       "299        NaN  \n",
       "\n",
       "[300 rows x 4 columns]"
      ]
     },
     "execution_count": 95,
     "metadata": {},
     "output_type": "execute_result"
    }
   ],
   "source": [
    "Tesla_raw = pd.read_excel (r'Tesla.xlsx')\n",
    "Tesla_raw"
   ]
  },
  {
   "cell_type": "code",
   "execution_count": 96,
   "metadata": {},
   "outputs": [],
   "source": [
    "Tesla_Negative = Tesla_raw[Tesla_raw[\"Categoria\"] == 0]\n",
    "Tesla_Positive = Tesla_raw[Tesla_raw[\"Categoria\"] == 1]\n",
    "Tesla_NR = Tesla_raw[Tesla_raw[\"Categoria\"] == 2]"
   ]
  },
  {
   "cell_type": "code",
   "execution_count": 97,
   "metadata": {},
   "outputs": [
    {
     "data": {
      "text/plain": [
       "150    rt @40_head: mr @potus, when are we going to f...\n",
       "159    rt @40_head: mr @potus, when are we going to f...\n",
       "167    rt @joesquawk: @glatran35 @cnbc i'm so sorry. ...\n",
       "171    rt @40_head: mr @potus, when are we going to f...\n",
       "178    rt @timeofcalamity: good morning! after readin...\n",
       "185    @40_head @potus potus' uncle got tesla's files...\n",
       "                             ...                        \n",
       "274    rt @polixenes13: every investor, long or short...\n",
       "275    not model 3 orders*!\\nthe thread worth reading...\n",
       "278    florida man parks smart car in kitchen so hurr...\n",
       "287                                  @tesletter version?\n",
       "292    @enn_nafnlaus watch out at 18 seconds and 38 s...\n",
       "293    interesting reading below! lol @tesla $tsla #t...\n",
       "Name: Tweets, Length: 26, dtype: object"
      ]
     },
     "execution_count": 97,
     "metadata": {},
     "output_type": "execute_result"
    }
   ],
   "source": [
    "Tesla_Negative[\"Tweets\"]\n",
    "Tesla_Positive[\"Tweets\"]\n",
    "Tesla_NR[\"Tweets\"]"
   ]
  },
  {
   "cell_type": "code",
   "execution_count": 98,
   "metadata": {},
   "outputs": [],
   "source": [
    "Tweets_N_Text = \"\"\n",
    "for e in Tesla_Negative[\"Tweets\"]:\n",
    "    Tweets_N_Text += e\n",
    "\n",
    "Tweets_P_Text = \"\"\n",
    "for e in Tesla_Positive[\"Tweets\"]:\n",
    "    Tweets_P_Text += e\n",
    "\n",
    "Tweets_NR_Text = \"\"\n",
    "for e in Tesla_NR[\"Tweets\"]:\n",
    "    Tweets_NR_Text += e"
   ]
  },
  {
   "cell_type": "code",
   "execution_count": 106,
   "metadata": {},
   "outputs": [],
   "source": [
    "Tweets_N_TextClean = cleanup(Tweets_N_Text.lower())\n",
    "Tweets_P_TextClean = cleanup(Tweets_P_Text.lower())\n",
    "Tweets_NR_TextClean = cleanup(Tweets_NR_Text.lower())"
   ]
  },
  {
   "cell_type": "code",
   "execution_count": 107,
   "metadata": {},
   "outputs": [],
   "source": [
    "serie_N = pd.Series(Tweets_N_TextClean.split())\n",
    "serie_P = pd.Series(Tweets_P_TextClean.split())\n",
    "serie_NR = pd.Series(Tweets_NR_TextClean.split())"
   ]
  },
  {
   "cell_type": "code",
   "execution_count": 101,
   "metadata": {},
   "outputs": [],
   "source": [
    "tabela_N = serie_N.value_counts()\n",
    "tabela_P = serie_P.value_counts()\n",
    "tabela_NR = serie_NR.value_counts()"
   ]
  },
  {
   "cell_type": "code",
   "execution_count": 118,
   "metadata": {},
   "outputs": [],
   "source": [
    "tabela_N_relativa = serie_N.value_counts(True)\n",
    "tabela_P_relativa = serie_P.value_counts(True)\n",
    "tabela_NR_relativa = serie_NR.value_counts(True)"
   ]
  },
  {
   "cell_type": "code",
   "execution_count": 119,
   "metadata": {},
   "outputs": [
    {
     "data": {
      "text/plain": [
       "the                0.044006\n",
       "tesla              0.021750\n",
       "in                 0.021244\n",
       "https              0.017704\n",
       "is                 0.017704\n",
       "//t                0.017198\n",
       "                     ...   \n",
       "american           0.000506\n",
       "@nhtsarecalls      0.000506\n",
       "co/2aemxukokyrt    0.000506\n",
       "widening           0.000506\n",
       "taxpayer           0.000506\n",
       "aging              0.000506\n",
       "Length: 781, dtype: float64"
      ]
     },
     "execution_count": 119,
     "metadata": {},
     "output_type": "execute_result"
    }
   ],
   "source": []
  },
  {
   "cell_type": "code",
   "execution_count": null,
   "metadata": {},
   "outputs": [],
   "source": []
  }
 ],
 "metadata": {
  "kernelspec": {
   "display_name": "Python 3",
   "language": "python",
   "name": "python3"
  },
  "language_info": {
   "codemirror_mode": {
    "name": "ipython",
    "version": 3
   },
   "file_extension": ".py",
   "mimetype": "text/x-python",
   "name": "python",
   "nbconvert_exporter": "python",
   "pygments_lexer": "ipython3",
   "version": "3.7.3"
  }
 },
 "nbformat": 4,
 "nbformat_minor": 2
}
