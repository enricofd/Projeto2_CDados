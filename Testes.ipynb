{
 "cells": [
  {
   "cell_type": "code",
   "execution_count": 93,
   "metadata": {},
   "outputs": [],
   "source": [
    "import pandas as pd\n",
    "import numpy as np\n",
    "from IPython.display import display\n",
    "pd.options.display.max_rows = 13"
   ]
  },
  {
   "cell_type": "code",
   "execution_count": 121,
   "metadata": {},
   "outputs": [],
   "source": [
    "import re \n",
    "\n",
    "def cleanup(text):\n",
    "    import string\n",
    "    punctuation = '[!-.:?;]'\n",
    "    pattern = re.compile(punctuation)\n",
    "    text_subbed = re.sub(pattern, ' ', text)\n",
    "    return text_subbed"
   ]
  },
  {
   "cell_type": "code",
   "execution_count": 120,
   "metadata": {},
   "outputs": [],
   "source": [
    "Tesla_raw = pd.read_excel (r'Tesla.xlsx')"
   ]
  },
  {
   "cell_type": "code",
   "execution_count": 96,
   "metadata": {},
   "outputs": [],
   "source": [
    "Tesla_Negative = Tesla_raw[Tesla_raw[\"Categoria\"] == 0]\n",
    "Tesla_Positive = Tesla_raw[Tesla_raw[\"Categoria\"] == 1]\n",
    "Tesla_NR = Tesla_raw[Tesla_raw[\"Categoria\"] == 2]"
   ]
  },
  {
   "cell_type": "code",
   "execution_count": 97,
   "metadata": {},
   "outputs": [
    {
     "data": {
      "text/plain": [
       "150    rt @40_head: mr @potus, when are we going to f...\n",
       "159    rt @40_head: mr @potus, when are we going to f...\n",
       "167    rt @joesquawk: @glatran35 @cnbc i'm so sorry. ...\n",
       "171    rt @40_head: mr @potus, when are we going to f...\n",
       "178    rt @timeofcalamity: good morning! after readin...\n",
       "185    @40_head @potus potus' uncle got tesla's files...\n",
       "                             ...                        \n",
       "274    rt @polixenes13: every investor, long or short...\n",
       "275    not model 3 orders*!\\nthe thread worth reading...\n",
       "278    florida man parks smart car in kitchen so hurr...\n",
       "287                                  @tesletter version?\n",
       "292    @enn_nafnlaus watch out at 18 seconds and 38 s...\n",
       "293    interesting reading below! lol @tesla $tsla #t...\n",
       "Name: Tweets, Length: 26, dtype: object"
      ]
     },
     "execution_count": 97,
     "metadata": {},
     "output_type": "execute_result"
    }
   ],
   "source": [
    "Tesla_Negative[\"Tweets\"]\n",
    "Tesla_Positive[\"Tweets\"]\n",
    "Tesla_NR[\"Tweets\"]"
   ]
  },
  {
   "cell_type": "code",
   "execution_count": 98,
   "metadata": {},
   "outputs": [],
   "source": [
    "Tweets_N_Text = \"\"\n",
    "for e in Tesla_Negative[\"Tweets\"]:\n",
    "    Tweets_N_Text += e\n",
    "\n",
    "Tweets_P_Text = \"\"\n",
    "for e in Tesla_Positive[\"Tweets\"]:\n",
    "    Tweets_P_Text += e\n",
    "\n",
    "Tweets_NR_Text = \"\"\n",
    "for e in Tesla_NR[\"Tweets\"]:\n",
    "    Tweets_NR_Text += e"
   ]
  },
  {
   "cell_type": "code",
   "execution_count": 106,
   "metadata": {},
   "outputs": [],
   "source": [
    "Tweets_N_TextClean = cleanup(Tweets_N_Text.lower())\n",
    "Tweets_P_TextClean = cleanup(Tweets_P_Text.lower())\n",
    "Tweets_NR_TextClean = cleanup(Tweets_NR_Text.lower())"
   ]
  },
  {
   "cell_type": "code",
   "execution_count": 107,
   "metadata": {},
   "outputs": [],
   "source": [
    "serie_N = pd.Series(Tweets_N_TextClean.split())\n",
    "serie_P = pd.Series(Tweets_P_TextClean.split())\n",
    "serie_NR = pd.Series(Tweets_NR_TextClean.split())"
   ]
  },
  {
   "cell_type": "code",
   "execution_count": 101,
   "metadata": {},
   "outputs": [],
   "source": [
    "tabela_N = serie_N.value_counts()\n",
    "tabela_P = serie_P.value_counts()\n",
    "tabela_NR = serie_NR.value_counts()"
   ]
  },
  {
   "cell_type": "code",
   "execution_count": 118,
   "metadata": {},
   "outputs": [],
   "source": [
    "tabela_N_relativa = serie_N.value_counts(True)\n",
    "tabela_P_relativa = serie_P.value_counts(True)\n",
    "tabela_NR_relativa = serie_NR.value_counts(True)"
   ]
  }
 ],
 "metadata": {
  "kernelspec": {
   "display_name": "Python 3",
   "language": "python",
   "name": "python3"
  },
  "language_info": {
   "codemirror_mode": {
    "name": "ipython",
    "version": 3
   },
   "file_extension": ".py",
   "mimetype": "text/x-python",
   "name": "python",
   "nbconvert_exporter": "python",
   "pygments_lexer": "ipython3",
   "version": "3.7.3"
  }
 },
 "nbformat": 4,
 "nbformat_minor": 2
}
